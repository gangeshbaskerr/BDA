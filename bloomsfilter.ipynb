{
 "cells": [
  {
   "cell_type": "code",
   "execution_count": 3,
   "id": "48a8cf0a",
   "metadata": {},
   "outputs": [],
   "source": [
    "arr = [0 for _ in range(5)]"
   ]
  },
  {
   "cell_type": "code",
   "execution_count": 4,
   "id": "25b61954",
   "metadata": {},
   "outputs": [
    {
     "name": "stdout",
     "output_type": "stream",
     "text": [
      "9 10\n"
     ]
    }
   ],
   "source": [
    "ip = list(map(int,input().split()))\n"
   ]
  },
  {
   "cell_type": "code",
   "execution_count": 5,
   "id": "69eed92f",
   "metadata": {},
   "outputs": [],
   "source": [
    "def hashfunction(n):\n",
    "    h1 = n %5\n",
    "    h2 = (2*n + 3) %5\n",
    "    return h1,h2"
   ]
  },
  {
   "cell_type": "code",
   "execution_count": 6,
   "id": "555f487d",
   "metadata": {},
   "outputs": [],
   "source": [
    "def update(h1,h2):\n",
    "    arr[h1] = 1\n",
    "    arr[h2] = 1"
   ]
  },
  {
   "cell_type": "code",
   "execution_count": 7,
   "id": "da25d8ed",
   "metadata": {},
   "outputs": [],
   "source": [
    "for i in ip:\n",
    "    h1,h2 = hashfunction(i)\n",
    "    update(h1,h2)"
   ]
  },
  {
   "cell_type": "code",
   "execution_count": 8,
   "id": "6338807d",
   "metadata": {},
   "outputs": [
    {
     "name": "stdout",
     "output_type": "stream",
     "text": [
      "Enter count of numbers to check 2\n",
      "Enter number you want to check : 15\n",
      "False positive \n",
      "Enter number you want to check : 12\n",
      "Negative\n"
     ]
    }
   ],
   "source": [
    "t = int(input(\"Enter count of numbers to check \"));\n",
    "while t>0:\n",
    "    ans = int(input(\"Enter number you want to check : \"))\n",
    "    h1,h2 = hashfunction(ans)\n",
    "    if(arr[h1]==1 and arr[h2] ==1):\n",
    "        print(\"False positive \")\n",
    "    else:\n",
    "        print(\"Negative\")\n",
    "    t -= 1"
   ]
  },
  {
   "cell_type": "code",
   "execution_count": 8,
   "id": "8cecc043",
   "metadata": {},
   "outputs": [
    {
     "name": "stdin",
     "output_type": "stream",
     "text": [
      "Enter the size of the Bloom filter (M):  10\n",
      "Enter elements to insert into Bloom filter:  12 44 87 32 76\n"
     ]
    },
    {
     "name": "stdout",
     "output_type": "stream",
     "text": [
      "Final Bloom filter: [1, 0, 1, 1, 1, 0, 1, 1, 1, 0]\n"
     ]
    },
    {
     "name": "stdin",
     "output_type": "stream",
     "text": [
      "Enter element to check in Bloom filter:  44\n"
     ]
    },
    {
     "name": "stdout",
     "output_type": "stream",
     "text": [
      "Element 44 might be in the Bloom filter (False Positive possible).\n"
     ]
    },
    {
     "name": "stdin",
     "output_type": "stream",
     "text": [
      "Enter test elements to check false positive rate:  14 23 87 76 10 45\n"
     ]
    },
    {
     "name": "stdout",
     "output_type": "stream",
     "text": [
      "False Positive Rate: 0.3333\n"
     ]
    }
   ],
   "source": [
    "def bloom_filter(M, elements):\n",
    "    # Initialize the Bloom filter array with zeros\n",
    "    bloom = [0] * M\n",
    "\n",
    "    # Insert elements into the Bloom filter\n",
    "    for element in elements:\n",
    "        h1 = element % M\n",
    "        h2 = (3 * element + 2) % M\n",
    "        if bloom[h1] == 0:\n",
    "            bloom[h1] = 1\n",
    "        if bloom[h2] == 0:\n",
    "            bloom[h2] = 1\n",
    "\n",
    "    print(\"Final Bloom filter:\", bloom)\n",
    "    return bloom\n",
    "\n",
    "def check_element_in_bloom_filter(bloom, M, element):\n",
    "    h1 = element % M\n",
    "    h2 = (3 * element + 2) % M\n",
    "\n",
    "    if bloom[h1] == 0 or bloom[h2] == 0:\n",
    "        print(\"Element\", element, \"is not in the Bloom filter.\")\n",
    "        return False\n",
    "    else:\n",
    "        print(\"Element\", element, \"might be in the Bloom filter (False Positive possible).\")\n",
    "        return True\n",
    "\n",
    "def calculate_false_positive_rate(bloom, elements, M, test_elements):\n",
    "    false_positives = 0\n",
    "    true_negatives = 0\n",
    "\n",
    "    for element in test_elements:\n",
    "        h1 = element % M\n",
    "        h2 = (3 * element + 2) % M\n",
    "\n",
    "        if (bloom[h1] == 1 and bloom[h2] == 1) and (element not in elements):\n",
    "            false_positives += 1\n",
    "        else:\n",
    "            true_negatives += 1\n",
    "\n",
    "    if (false_positives + true_negatives) == 0:\n",
    "        return 0\n",
    "    false_positive_rate = false_positives / (false_positives + true_negatives)\n",
    "    return false_positive_rate\n",
    "\n",
    "# Example usage\n",
    "M = int(input(\"Enter the size of the Bloom filter (M): \"))\n",
    "elements = list(map(int, input(\"Enter elements to insert into Bloom filter: \").split()))\n",
    "\n",
    "bloom = bloom_filter(M, elements)\n",
    "\n",
    "# Check if an element is in the Bloom filter\n",
    "x1 = int(input(\"Enter element to check in Bloom filter: \"))\n",
    "check_element_in_bloom_filter(bloom, M, x1)\n",
    "\n",
    "# Calculate false positive rate for a set of test elements\n",
    "test_elements = list(map(int, input(\"Enter test elements to check false positive rate: \").split()))\n",
    "false_positive_rate = calculate_false_positive_rate(bloom, elements, M, test_elements)\n",
    "print(f\"False Positive Rate: {false_positive_rate:.4f}\")\n"
   ]
  },
  {
   "cell_type": "raw",
   "id": "f02e50a8-f30a-4d67-b653-d6a42e371e70",
   "metadata": {},
   "source": [
    "1. Initialize the Bloom filter array `bloom` with zeros of size `M`.\n",
    "2. For each element in the input list of elements to be inserted:\n",
    "   a. Compute the first hash `h1` as element % M.\n",
    "   b. Compute the second hash `h2` as (3 * element + 2) % M.\n",
    "   c. Set `bloom[h1]` to 1.\n",
    "   d. Set `bloom[h2]` to 1.\n",
    "3. Print the final state of the Bloom filter array `bloom`.\n",
    "\n",
    "4. Input the element `x1` to check if it is in the Bloom filter.\n",
    "5. Compute hashes `h1` and `h2` for `x1`.\n",
    "6. If both `bloom[h1]` and `bloom[h2]` are 1:\n",
    "   a. Print that the element `x1` might be in the Bloom filter.\n",
    "7. Else:\n",
    "   a. Print that the element `x1` is not in the Bloom filter.\n",
    "\n",
    "8. Input the list of test elements to calculate the false positive rate.\n",
    "9. Initialize counters for false positives and true negatives to 0.\n",
    "10. For each element in the list of test elements:\n",
    "    a. Compute hashes `h1` and `h2`.\n",
    "    b. If `bloom[h1]` and `bloom[h2]` are 1 and the element is not in the original list of elements:\n",
    "       i. Increment the false positives counter.\n",
    "    c. Else:\n",
    "       i. Increment the true negatives counter.\n",
    "11. Compute the false positive rate as (false positives) / (false positives + true negatives).\n",
    "12. Print the false positive rate.\n"
   ]
  }
 ],
 "metadata": {
  "kernelspec": {
   "display_name": "Python 3 (ipykernel)",
   "language": "python",
   "name": "python3"
  },
  "language_info": {
   "codemirror_mode": {
    "name": "ipython",
    "version": 3
   },
   "file_extension": ".py",
   "mimetype": "text/x-python",
   "name": "python",
   "nbconvert_exporter": "python",
   "pygments_lexer": "ipython3",
   "version": "3.12.4"
  }
 },
 "nbformat": 4,
 "nbformat_minor": 5
}
